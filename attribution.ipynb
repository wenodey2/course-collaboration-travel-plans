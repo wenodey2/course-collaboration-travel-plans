{
 "cells": [
  {
   "cell_type": "markdown",
   "metadata": {},
   "source": [
    "# Markov Chain Attribution Model"
   ]
  },
  {
   "cell_type": "markdown",
   "metadata": {},
   "source": [
    "## Model 1"
   ]
  },
  {
   "cell_type": "markdown",
   "metadata": {},
   "source": [
    "Python Implementation of Markov Chain Attribution Model by Akanksha Anand (Ak)\n",
    "https://medium.com/@akanksha.etc302/python-implementation-of-markov-chain-attribution-model-0924687e4037"
   ]
  },
  {
   "cell_type": "markdown",
   "metadata": {},
   "source": [
    "### Imports"
   ]
  },
  {
   "cell_type": "code",
   "execution_count": null,
   "metadata": {},
   "outputs": [],
   "source": [
    "import pandas as pd\n",
    "import numpy as np\n",
    "import seaborn as sns\n",
    "from collections import defaultdict\n",
    "import warnings\n",
    "warnings.filterwarnings('ignore')"
   ]
  },
  {
   "cell_type": "markdown",
   "metadata": {},
   "source": [
    "### Data Procesing"
   ]
  },
  {
   "cell_type": "code",
   "execution_count": null,
   "metadata": {},
   "outputs": [],
   "source": [
    "df = pd.read_csv(r'attribution data.csv')\n",
    "df = df.sort_values(['cookie', 'time'],\n",
    "                    ascending=[False, True])\n",
    "df['visit_order'] = df.groupby('cookie').cumcount() + 1"
   ]
  },
  {
   "cell_type": "code",
   "execution_count": null,
   "metadata": {},
   "outputs": [],
   "source": [
    "df_last_interaction = df.drop_duplicates('cookie', keep='last')[['cookie', 'conversion']]\n",
    "df_paths = pd.merge(df, df_last_interaction, how='left', on='cookie')#.drop(columns=['conversion_x']).rename(columns={'conversion_y': 'conversion'})"
   ]
  },
  {
   "cell_type": "code",
   "execution_count": null,
   "metadata": {},
   "outputs": [],
   "source": [
    "df_paths['path'] = np.where(\n",
    "    df_paths['conversion_y'] == 0,\n",
    "    ['Start, '] + df_paths['channel'] + [', No_Conv'],\n",
    "    ['Start, '] + df_paths['channel'] + [', Conversion'])\n",
    "\n",
    "df_paths['path']=df_paths['path'].str.split(', ')\n",
    "df_paths = df_paths[['cookie', 'path']]\n",
    "df_paths"
   ]
  },
  {
   "cell_type": "code",
   "execution_count": null,
   "metadata": {},
   "outputs": [],
   "source": [
    "df_paths['path'] = np.where(\n",
    "    df_paths['conversion'] == 0,\n",
    "    ['Start, '] + df_paths['channel'] + [', No_Conv'],\n",
    "    ['Start, '] + df_paths['channel'] + [', Conversion'])\n",
    "\n",
    "df_paths['path']=df_paths['path'].str.split(', ')\n",
    "df_paths = df_paths[['cookie', 'path']]\n",
    "df_paths"
   ]
  },
  {
   "cell_type": "markdown",
   "metadata": {},
   "source": [
    "### Markov Chain"
   ]
  },
  {
   "cell_type": "code",
   "execution_count": null,
   "metadata": {},
   "outputs": [],
   "source": [
    "# Conversion Rate\n",
    "list_of_paths = df_paths['path']\n",
    "total_conversions = sum(path.count('Conversion') for path in df_paths['path'].tolist())\n",
    "base_conversion_rate = total_conversions / len(list_of_paths)"
   ]
  },
  {
   "cell_type": "code",
   "execution_count": null,
   "metadata": {},
   "outputs": [],
   "source": [
    "# Transition State\n",
    "list_of_unique_channels = set(x for element in list_of_paths for x in element)\n",
    "transition_states = {x + '>' + y: 0 for x in list_of_unique_channels for y in list_of_unique_channels}"
   ]
  },
  {
   "cell_type": "code",
   "execution_count": null,
   "metadata": {},
   "outputs": [],
   "source": [
    "for possible_state in list_of_unique_channels:\n",
    "    if possible_state not in ['Conversion', 'No_Conv']:\n",
    "        for user_path in list_of_paths:\n",
    "            if possible_state in user_path:\n",
    "                indices = [i for i, s in enumerate(user_path) if possible_state in s]\n",
    "                for col in indices:\n",
    "                    transition_states[user_path[col] + '>' + user_path[col + 1]] += 1\n",
    "transition_states"
   ]
  },
  {
   "cell_type": "code",
   "execution_count": null,
   "metadata": {},
   "outputs": [],
   "source": [
    "transition_prob = defaultdict(dict)\n",
    "for state in list_of_unique_channels:\n",
    "    if state not in ['Conversion', 'No_Conv']:\n",
    "        counter = 0\n",
    "        index = [i for i, s in enumerate(transition_states) if state + '>' in s]"
   ]
  },
  {
   "cell_type": "code",
   "execution_count": null,
   "metadata": {},
   "outputs": [],
   "source": [
    "# Transition Probabilities\n",
    "transition_prob = defaultdict(dict)\n",
    "for state in list_of_unique_channels:\n",
    "    if state not in ['Conversion', 'No_Conv']:\n",
    "        counter = 0\n",
    "        index = [i for i, s in enumerate(transition_states) if state + '>' in s]\n",
    "        for col in index:\n",
    "            if transition_states[list(transition_states)[col]] > 0:\n",
    "                counter += trans_dict[list(transition_states)[col]]\n",
    "        for col in index:\n",
    "            if transition_states[list(transition_states)[col]] > 0:\n",
    "                state_prob = float((transition_states[list(transition_states)[col]])) / float(counter)\n",
    "                transition_prob[list(transition_states)[col]] = state_prob"
   ]
  },
  {
   "cell_type": "code",
   "execution_count": null,
   "metadata": {},
   "outputs": [],
   "source": [
    "# Transition Matrix\n",
    "transition_matrix = pd.DataFrame()\n",
    "list_of_unique_channels = set(x for element in list_of_paths for x in element)\n",
    "\n",
    "#Assign zero to all matrix elements\n",
    "for channel in list_of_unique_channels:\n",
    "    transition_matrix[channel] = 0.00\n",
    "    transition_matrix.loc[channel] = 0.00\n",
    "    transition_matrix.loc[channel][channel] = 1.0 if channel in ['Conversion', 'No_Conv'] else 0.0\n",
    "\n",
    "#Assign probability using calculated transition probability\n",
    "for key, value in transition_prob.items():\n",
    "        origin, destination = key.split('>')\n",
    "        transition_matrix.at[origin, destination] = value"
   ]
  },
  {
   "cell_type": "code",
   "execution_count": null,
   "metadata": {},
   "outputs": [],
   "source": [
    "# Removal Effect\n",
    "removal_effects_dict = {}\n",
    "channels = [channel for channel in transition_matrix.columns if channel not in ['Start', 'No_Conv', 'Conversion']]\n",
    "for channel in channels:\n",
    "    removal_df = transition_matrix.drop(channel, axis=1).drop(channel, axis=0)\n",
    "    for column in removal_df.columns:\n",
    "        row_sum = np.sum(list(removal_df.loc[column]))\n",
    "        null_pct = float(1) - row_sum\n",
    "        if null_pct != 0:\n",
    "            removal_df.loc[column]['No_Conv'] = null_pct\n",
    "        removal_df.loc['No_Conv']['No_Conv'] = 1.0\n",
    "    removal_to_conv = removal_df[\n",
    "        ['No_Conv', 'Conversion']].drop(['No_Conv', 'Conversion'], axis=0)\n",
    "    removal_to_non_conv = removal_df.drop(\n",
    "        ['No_Conv', 'Conversion'], axis=1).drop(['No_Conv', 'Conversion'], axis=0)\n",
    "    removal_inv_diff = np.linalg.inv(\n",
    "        np.identity(\n",
    "            len(removal_to_non_conv.columns)) - np.asarray(removal_to_non_conv))\n",
    "    removal_dot_prod = np.dot(removal_inv_diff, np.asarray(removal_to_conv))\n",
    "    removal_cvr = pd.DataFrame(removal_dot_prod,\n",
    "                               index=removal_to_conv.index)[[1]].loc['Start'].values[0]\n",
    "    removal_effect = 1 - removal_cvr / conversion_rate\n",
    "    removal_effects_dict[channel] = removal_effect"
   ]
  },
  {
   "cell_type": "code",
   "execution_count": null,
   "metadata": {},
   "outputs": [],
   "source": [
    "# Attribution\n",
    "removal_effect_sum = np.sum(list(removal_effects_dict.values()))\n",
    "attribution={key: (value / removal_effect_sum) * total_conversions for key, value in removal_effects_dict.items()}"
   ]
  },
  {
   "cell_type": "markdown",
   "metadata": {},
   "source": [
    "## Model 2"
   ]
  },
  {
   "cell_type": "markdown",
   "metadata": {},
   "source": [
    "### Markov Chain"
   ]
  },
  {
   "cell_type": "code",
   "execution_count": null,
   "metadata": {},
   "outputs": [],
   "source": [
    "class MarkovChainAttributionModel:\n",
    "    def __init__(self, transition_matrix):\n",
    "        self.transition_matrix = transition_matrix\n",
    "\n",
    "    def calculate_attribution(self, path):\n",
    "        attribution = np.zeros(len(self.transition_matrix))\n",
    "        for i in range(len(path) - 1):\n",
    "            attribution[path[i]] += self.transition_matrix[path[i], path[i + 1]]\n",
    "        return attribution\n",
    "\n",
    "def main():\n",
    "    transition_matrix = np.array([[0.7, 0.2, 0.1],\n",
    "                                 [0.3, 0.5, 0.2],\n",
    "                                 [0.1, 0.2, 0.7]])\n",
    "\n",
    "    model = MarkovChainAttributionModel(transition_matrix)\n",
    "\n",
    "    path = [0, 1, 2]\n",
    "\n",
    "    attribution = model.calculate_attribution(path)\n",
    "\n",
    "    print(attribution)\n",
    "\n",
    "if __name__ == \"__main__\":\n",
    "    main()"
   ]
  },
  {
   "cell_type": "markdown",
   "metadata": {},
   "source": [
    "## Model 3"
   ]
  },
  {
   "cell_type": "markdown",
   "metadata": {},
   "source": [
    "### Markov Chain"
   ]
  },
  {
   "cell_type": "code",
   "execution_count": null,
   "metadata": {},
   "outputs": [],
   "source": [
    "class MarkovChainAttributionModel:\n",
    "    def __init__(self, transition_matrix, conversion_vector, removal_effects=None):\n",
    "        \"\"\"\n",
    "        Initialize the Markov Chain Attribution Model.\n",
    "        \n",
    "        Args:\n",
    "        - transition_matrix (numpy.ndarray): Transition matrix representing probabilities of transitioning\n",
    "                                             from one channel to another.\n",
    "        - conversion_vector (numpy.ndarray): Vector representing the probability of conversion for each channel.\n",
    "        - removal_effects (numpy.ndarray): Vector representing the removal effects for each channel.\n",
    "        \"\"\"\n",
    "        self.transition_matrix = transition_matrix\n",
    "        self.conversion_vector = conversion_vector\n",
    "        self.num_channels = len(transition_matrix)\n",
    "        self.removal_effects = removal_effects if removal_effects is not None else np.zeros(self.num_channels)\n",
    "    \n",
    "    def simulate_conversion_path(self, path_length):\n",
    "        \"\"\"\n",
    "        Simulate a conversion path based on the transition matrix.\n",
    "        \n",
    "        Args:\n",
    "        - path_length (int): Length of the conversion path.\n",
    "        \n",
    "        Returns:\n",
    "        - list: List representing the simulated conversion path.\n",
    "        \"\"\"\n",
    "        current_state = 0  # Start from the initial state\n",
    "        conversion_path = [current_state]\n",
    "        for _ in range(path_length - 1):\n",
    "            next_state = np.random.choice(self.num_channels, p=self.transition_matrix[current_state])\n",
    "            conversion_path.append(next_state)\n",
    "            current_state = next_state\n",
    "        return conversion_path\n",
    "    \n",
    "    def calculate_attribution(self, path):\n",
    "        \"\"\"\n",
    "        Calculate attribution for each channel in the given conversion path.\n",
    "        \n",
    "        Args:\n",
    "        - path (list): List representing the conversion path.\n",
    "        \n",
    "        Returns:\n",
    "        - numpy.ndarray: Array representing the attribution for each channel.\n",
    "        \"\"\"\n",
    "        attribution = np.zeros(self.num_channels)\n",
    "        for i, channel in enumerate(path):\n",
    "            if i == 0:  # First touch attribution\n",
    "                attribution[channel] += 1\n",
    "            else:\n",
    "                prev_channel = path[i - 1]\n",
    "                attribution[prev_channel] -= self.removal_effects[prev_channel]\n",
    "                attribution[channel] += 1\n",
    "        return attribution / len(path)  # Normalize attribution"
   ]
  },
  {
   "cell_type": "code",
   "execution_count": null,
   "metadata": {},
   "outputs": [],
   "source": [
    "# Example usage:\n",
    "transition_matrix = np.array([[0.7, 0.2, 0.1],\n",
    "                              [0.1, 0.6, 0.3],\n",
    "                              [0.3, 0.3, 0.4]])\n",
    "\n",
    "conversion_vector = np.array([0.1, 0.05, 0.07])\n",
    "\n",
    "removal_effects = np.array([0.02, 0.01, 0.03])\n",
    "\n",
    "model = MarkovChainAttributionModel(transition_matrix, conversion_vector, removal_effects)\n",
    "\n",
    "# Simulate a conversion path\n",
    "conversion_path = model.simulate_conversion_path(5)\n",
    "print(\"Simulated Conversion Path:\", conversion_path)\n",
    "\n",
    "# Calculate attribution\n",
    "attribution = model.calculate_attribution(conversion_path)\n",
    "print(\"Attribution:\", attribution)"
   ]
  }
 ],
 "metadata": {
  "kernelspec": {
   "display_name": "torch",
   "language": "python",
   "name": "python3"
  },
  "language_info": {
   "codemirror_mode": {
    "name": "ipython",
    "version": 3
   },
   "file_extension": ".py",
   "mimetype": "text/x-python",
   "name": "python",
   "nbconvert_exporter": "python",
   "pygments_lexer": "ipython3",
   "version": "3.10.14"
  }
 },
 "nbformat": 4,
 "nbformat_minor": 2
}
